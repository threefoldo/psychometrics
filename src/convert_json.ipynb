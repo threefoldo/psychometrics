{
 "cells": [
  {
   "cell_type": "code",
   "execution_count": 2,
   "metadata": {},
   "outputs": [],
   "source": [
    "import json\n",
    "import csv\n",
    "\n",
    "# Read the JSON file\n",
    "with open('../data/questions_21.json', 'r') as json_file:\n",
    "    data = json.load(json_file)"
   ]
  },
  {
   "cell_type": "code",
   "execution_count": 6,
   "metadata": {},
   "outputs": [
    {
     "name": "stdout",
     "output_type": "stream",
     "text": [
      "Perceived Usefulness Q1 To what extent do you agree that product recommendations make your shopping experience more interesting?\n",
      "Perceived Usefulness Q2 To what extent do you agree that product recommendations make your shopping experience more enjoyable?\n",
      "Perceived Usefulness Q3 To what extent do you agree that product recommendations help you make more informed purchase decisions?\n",
      "Perceived Usefulness Q4 To what extent do you agree that product recommendations help you make more accurate purchase decisions?\n",
      "Perceived Usefulness Q5 To what extent do you agree that product recommendations adequately meet your needs in your purchase decisions?\n",
      "Perceived Usefulness Q6 To what extent do you agree that product recommendations improve your shopping experiences?\n",
      "Perceived Usefulness Q7 To what extent do you agree that product recommendations improve your shopping outcomes?\n",
      "Perceived Ease of Use Q8 To what extent do you agree that it is easy to understand product recommendations?\n",
      "Perceived Ease of Use Q9 To what extent do you agree that it is easy to understand how to use product recommendations?\n",
      "Perceived Ease of Use Q10 To what extent do you agree that it is easy to learn how to use product recommendations?\n",
      "Perceived Ease of Use Q11 To what extent do you agree that it is easy to learn how product recommendations operate?\n",
      "Intention to Use Q12 To what extent do you agree that it is likely you will continue purchasing products from Amazon?\n",
      "Intention to Use Q13 To what extent do you agree that you will purchase products from Amazon next time you need them?\n",
      "Intention to Use Q14 Suppose that a friend wants your advice on his/her search for some products; to what extent do you agree that you would recommend him/her to purchase them from Amazon?\n",
      "Intention to Use Q15 To what extent do you agree that you will definitely purchase products again from Amazon?\n",
      "Demographic Information D1 What is your current working status?\n",
      "Demographic Information D2 What is your education background?\n",
      "Demographic Information D3 What is your age range?\n",
      "Demographic Information D4 What is your gender?\n",
      "Demographic Information D5 How many years have you used Amazon?\n",
      "Demographic Information D6 How many times did you shop on Amazon during the last three months?\n"
     ]
    }
   ],
   "source": [
    "for question_id, question_data in data['questions'].items():\n",
    "        contract_id = question_data['group']\n",
    "        name = question_data['group']\n",
    "        question_id = question_data['label']\n",
    "        question_text = question_data['question']\n",
    "        print(name, question_id, question_text)"
   ]
  },
  {
   "cell_type": "code",
   "execution_count": 4,
   "metadata": {},
   "outputs": [
    {
     "name": "stdout",
     "output_type": "stream",
     "text": [
      "{'label': 'Q1', 'question': 'To what extent do you agree that product recommendations make your shopping experience more interesting?', 'options': '1 = Strongly Disagree, 2 = Disagree, 3 = Somewhat Disagree, 4 = Neutral, 5 = Somewhat Agree, 6 = Agree, 7 = Strongly Agree', 'group': 'Perceived Usefulness', 'values': [1, 2, 3, 4, 5, 6, 7]}\n"
     ]
    }
   ],
   "source": [
    "print(question_data)"
   ]
  },
  {
   "cell_type": "code",
   "execution_count": 7,
   "metadata": {},
   "outputs": [],
   "source": [
    "with open('../data/questions.csv', 'w', newline='') as csv_file:\n",
    "    csv_writer = csv.writer(csv_file)\n",
    "    \n",
    "    # Write the header\n",
    "    csv_writer.writerow(['ContractID', 'Name', 'QuestionID', 'Question'])\n",
    "    \n",
    "    # Process each question\n",
    "    for question_id, question_data in data['questions'].items():\n",
    "        contract_id = question_data['group']\n",
    "        name = question_data['group']\n",
    "        question_id = question_data['label']\n",
    "        question_text = question_data['question']\n",
    "        \n",
    "        # Write the row\n",
    "        csv_writer.writerow([contract_id, name, question_id, question_text])"
   ]
  },
  {
   "cell_type": "code",
   "execution_count": null,
   "metadata": {},
   "outputs": [],
   "source": []
  }
 ],
 "metadata": {
  "kernelspec": {
   "display_name": "research",
   "language": "python",
   "name": "python3"
  },
  "language_info": {
   "codemirror_mode": {
    "name": "ipython",
    "version": 3
   },
   "file_extension": ".py",
   "mimetype": "text/x-python",
   "name": "python",
   "nbconvert_exporter": "python",
   "pygments_lexer": "ipython3",
   "version": "3.11.4"
  }
 },
 "nbformat": 4,
 "nbformat_minor": 2
}
